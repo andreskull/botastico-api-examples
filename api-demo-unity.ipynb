{
 "cells": [
  {
   "attachments": {},
   "cell_type": "markdown",
   "metadata": {},
   "source": [
    "# Use Case: Unity Software (U) analysis\n",
    "\n",
    "The use case creates an agent that has the recent Unity Software (U) earnings reports and can anser questios about it.\n",
    "\n",
    "We go through the following steps:\n",
    "- create an agent\n",
    "- list the agent to see the agent's configuration parameters\n",
    "- upload a file to the agent knowledge-base\n",
    "- add URLs to scrape the text from websites to knowledge base\n",
    "- list the agent to see which documents the agent's index (knowledge base) includes\n",
    "- interact with agent\n",
    "- delete the agent"
   ]
  },
  {
   "cell_type": "code",
   "execution_count": 10,
   "metadata": {},
   "outputs": [],
   "source": [
    "import os\n",
    "import requests\n",
    "from dotenv import load_dotenv\n",
    "import sys\n",
    "\n",
    "load_dotenv()\n",
    "\n",
    "# this is just the test wrapper that makes agent output nice on this notebook\n",
    "\n",
    "from textwrap import TextWrapper\n",
    "\n",
    "def wrapped_print(text):\n",
    "    wrapper = TextWrapper(width=150)\n",
    "    # Replace newline characters with a placeholder\n",
    "    text = text.replace('\\n', '<newline_placeholder>')\n",
    "\n",
    "    # Wrap the text\n",
    "    wrapped_text = wrapper.fill(text)\n",
    "\n",
    "    # Replace the placeholder with newline characters again\n",
    "    formatted_text = wrapped_text.replace('<newline_placeholder>', '\\n')\n",
    "\n",
    "    print(formatted_text)\n"
   ]
  },
  {
   "cell_type": "code",
   "execution_count": 11,
   "metadata": {},
   "outputs": [],
   "source": [
    "api_key = os.environ.get(\"BOTASTICO_API_KEY\")\n",
    "base_url = os.environ.get(f'BASE_URL')\n",
    "headers = {'Authorization': f'Bearer {api_key}'}"
   ]
  },
  {
   "attachments": {},
   "cell_type": "markdown",
   "metadata": {},
   "source": [
    "# Create an agent"
   ]
  },
  {
   "cell_type": "code",
   "execution_count": 13,
   "metadata": {},
   "outputs": [
    {
     "name": "stdout",
     "output_type": "stream",
     "text": [
      "200\n",
      "{'agent_id': 'SjbZicgTTIVy1kQNoxGW', 'status': 'success'}\n"
     ]
    }
   ],
   "source": [
    "agent_data = {\n",
    "        \"agent_name\": \"Unity Software analyser\",\n",
    "        \"source_text\": \"Unity Software Inc. operates a platform that provides real-time 3D development tools and services. Its platform provides software solutions to create, run, and monetize interactive, real-time 2D and 3D content for mobile phones, tablets, PCs, consoles, and augmented and virtual reality devices. The company serves enterprises, mid-market companies, and government and non-profit institutions; mid-sized, small, and independent businesses; and individuals across various industries. It offers its solutions directly through its online store, field sales operations, independent distributors, and resellers in North America, Denmark, China, Finland, the United Kingdom, Germany, Israel, Japan, Singapore, South Korea, Spain, and internationally. The company was founded in 2004 and is headquartered in San Francisco, California.\",\n",
    "        \"source_urls\": [\"https://investors.unity.com/news/news-details/2023/Unity-Announces-Fourth-Quarter-and-Fiscal-Year-2022-Financial-Results-Webcast/default.aspx\",\n",
    "                        \"https://investors.unity.com/news/news-details/2023/Unity-Announces-Fourth-Quarter-and-Full-Year-2022-Financial-Results/default.aspx\"],\n",
    "        \"chunk_size\": 400,\n",
    "        \"chunk_overlap\": 0,\n",
    "        \"model_name\": \"gpt-4\",\n",
    "        \"temperature\": 0.5,\n",
    "        \"max_response_tokens\": 500,\n",
    "        \"stop\": \"\",\n",
    "        \"script\": \"\",\n",
    "        \"assistant_name\": \"Unity Software analyser\",\n",
    "        \"intro\": {\"en\": \"How can I help you?\"},\n",
    "        \"sitelogo_url_or_svg\": \"https://s26.q4cdn.com/977690160/files/design/U_Logo_White_RGB.png\",\n",
    "        \"url_loader\": \"unstructured\",\n",
    "    }\n",
    "\n",
    "create_response = requests.post(f'{base_url}/v1/agents', json=agent_data, headers=headers)\n",
    "print (create_response.status_code)\n",
    "print(create_response.json())"
   ]
  },
  {
   "attachments": {},
   "cell_type": "markdown",
   "metadata": {},
   "source": [
    "# List the agents"
   ]
  },
  {
   "cell_type": "code",
   "execution_count": 14,
   "metadata": {},
   "outputs": [
    {
     "data": {
      "text/plain": [
       "'SjbZicgTTIVy1kQNoxGW'"
      ]
     },
     "execution_count": 14,
     "metadata": {},
     "output_type": "execute_result"
    }
   ],
   "source": [
    "agent_id = create_response.json()['agent_id']\n",
    "agent_id"
   ]
  },
  {
   "cell_type": "code",
   "execution_count": 15,
   "metadata": {},
   "outputs": [
    {
     "name": "stdout",
     "output_type": "stream",
     "text": [
      "200\n"
     ]
    },
    {
     "data": {
      "text/plain": [
       "[{'agent_id': 'SjbZicgTTIVy1kQNoxGW',\n",
       "  'files': [{'created_at': '2023-07-06T11:57:57.138000+00:00',\n",
       "    'filename': 'source.txt',\n",
       "    'in_index': True,\n",
       "    'kbdoc_id': 'kP3kHNuEwoG0vAFykTAU'}],\n",
       "  'parameters': {'agent_name': 'Unity Software analyser',\n",
       "   'assistant_name': 'Unity Software analyser',\n",
       "   'chunk_overlap': 0,\n",
       "   'chunk_size': 400,\n",
       "   'intro': {'en': 'How can I help you?'},\n",
       "   'max_response_tokens': 500,\n",
       "   'model_name': 'gpt-4',\n",
       "   'script': '',\n",
       "   'sitelogo_url_or_svg': 'https://s26.q4cdn.com/977690160/files/design/U_Logo_White_RGB.png',\n",
       "   'status': 'not_active',\n",
       "   'stop': '',\n",
       "   'temperature': 0.5},\n",
       "  'urls': [{'created_at': '2023-07-06T11:58:09.223000+00:00',\n",
       "    'in_index': True,\n",
       "    'kbdoc_id': 'IOPDueRKsEy8oZjWr6n5',\n",
       "    'url': 'https://investors.unity.com/news/news-details/2023/Unity-Announces-Fourth-Quarter-and-Full-Year-2022-Financial-Results/default.aspx'},\n",
       "   {'created_at': '2023-07-06T11:58:09.309000+00:00',\n",
       "    'in_index': True,\n",
       "    'kbdoc_id': 'hE9mTRKDtHcP5r8DP628',\n",
       "    'url': 'https://investors.unity.com/news/news-details/2023/Unity-Announces-Fourth-Quarter-and-Fiscal-Year-2022-Financial-Results-Webcast/default.aspx'}]}]"
      ]
     },
     "execution_count": 15,
     "metadata": {},
     "output_type": "execute_result"
    }
   ],
   "source": [
    "# 4.A. List agents after one agent is created\n",
    "list_response = requests.get(f'{base_url}/v1/agents?agent_ids={agent_id}', headers=headers)\n",
    "print (list_response.status_code)\n",
    "list_response.json()"
   ]
  },
  {
   "cell_type": "code",
   "execution_count": 16,
   "metadata": {},
   "outputs": [
    {
     "data": {
      "text/plain": [
       "{'agent_id': 'SjbZicgTTIVy1kQNoxGW',\n",
       " 'files': [{'created_at': '2023-07-06T11:57:57.138000+00:00',\n",
       "   'filename': 'source.txt',\n",
       "   'in_index': True,\n",
       "   'kbdoc_id': 'kP3kHNuEwoG0vAFykTAU'}],\n",
       " 'parameters': {'agent_name': 'Unity Software analyser',\n",
       "  'assistant_name': 'Unity Software analyser',\n",
       "  'chunk_overlap': 0,\n",
       "  'chunk_size': 400,\n",
       "  'intro': {'en': 'How can I help you?'},\n",
       "  'max_response_tokens': 500,\n",
       "  'model_name': 'gpt-4',\n",
       "  'script': '',\n",
       "  'sitelogo_url_or_svg': 'https://s26.q4cdn.com/977690160/files/design/U_Logo_White_RGB.png',\n",
       "  'status': 'not_active',\n",
       "  'stop': '',\n",
       "  'temperature': 0.5},\n",
       " 'urls': [{'created_at': '2023-07-06T11:58:09.223000+00:00',\n",
       "   'in_index': True,\n",
       "   'kbdoc_id': 'IOPDueRKsEy8oZjWr6n5',\n",
       "   'url': 'https://investors.unity.com/news/news-details/2023/Unity-Announces-Fourth-Quarter-and-Full-Year-2022-Financial-Results/default.aspx'},\n",
       "  {'created_at': '2023-07-06T11:58:09.309000+00:00',\n",
       "   'in_index': True,\n",
       "   'kbdoc_id': 'hE9mTRKDtHcP5r8DP628',\n",
       "   'url': 'https://investors.unity.com/news/news-details/2023/Unity-Announces-Fourth-Quarter-and-Fiscal-Year-2022-Financial-Results-Webcast/default.aspx'}]}"
      ]
     },
     "execution_count": 16,
     "metadata": {},
     "output_type": "execute_result"
    }
   ],
   "source": [
    "# get from agents list an agent with agent_id as a key\n",
    "[agent for agent in list_response.json() if agent['agent_id'] == agent_id][0]"
   ]
  },
  {
   "attachments": {},
   "cell_type": "markdown",
   "metadata": {},
   "source": [
    "# Upload files"
   ]
  },
  {
   "cell_type": "code",
   "execution_count": 17,
   "metadata": {},
   "outputs": [
    {
     "name": "stdout",
     "output_type": "stream",
     "text": [
      "200\n"
     ]
    },
    {
     "data": {
      "text/plain": [
       "{'kbdoc_id': 'IqtANNJLnURcidaRmq7f',\n",
       " 'message': 'Processing of kbdoc IqtANNJLnURcidaRmq7f successful'}"
      ]
     },
     "execution_count": 17,
     "metadata": {},
     "output_type": "execute_result"
    }
   ],
   "source": [
    "pdf_file_name = '2023_Q1-Shareholder-Letter_FINAL.pdf'\n",
    "current_dir = os.getcwd()\n",
    "test_pdf_path = os.path.join(current_dir, 'data_files', pdf_file_name)\n",
    "with open(test_pdf_path, 'rb') as f:\n",
    "    upload_response = requests.post(f'{base_url}/v1/agents/{agent_id}/kb/file', headers=headers, files={'file': (pdf_file_name, f)})\n",
    "\n",
    "print (upload_response.status_code)\n",
    "upload_response.json()"
   ]
  },
  {
   "attachments": {},
   "cell_type": "markdown",
   "metadata": {},
   "source": [
    "# Add URLs to scrape"
   ]
  },
  {
   "cell_type": "code",
   "execution_count": 18,
   "metadata": {},
   "outputs": [
    {
     "name": "stdout",
     "output_type": "stream",
     "text": [
      "200\n"
     ]
    },
    {
     "data": {
      "text/plain": [
       "{'data': [{'kbdoc_id': 'Y7EbNnQBQsGv2H29Xnh4',\n",
       "   'message': '',\n",
       "   'status': 'success'}],\n",
       " 'message': 'URLs scraped and documents processed'}"
      ]
     },
     "execution_count": 18,
     "metadata": {},
     "output_type": "execute_result"
    }
   ],
   "source": [
    "urls_to_scrape = ['https://investors.unity.com/news/news-details/2023/Unity-Named-to-Fast-Companys-Annual-List-of-the-Worlds-Most-Innovative-Companies-for-2023/default.aspx']\n",
    "scrape_response = requests.post(f'{base_url}/v1/agents/{agent_id}/kb/urls/scrape', headers=headers, json={'urls': urls_to_scrape, 'loader_type': 'unstructured'})\n",
    "print (scrape_response.status_code)\n",
    "scrape_response.json()"
   ]
  },
  {
   "attachments": {},
   "cell_type": "markdown",
   "metadata": {},
   "source": [
    "# List agents"
   ]
  },
  {
   "cell_type": "code",
   "execution_count": 19,
   "metadata": {},
   "outputs": [
    {
     "name": "stdout",
     "output_type": "stream",
     "text": [
      "200\n"
     ]
    },
    {
     "data": {
      "text/plain": [
       "[{'agent_id': '8DYc4prfgbfrcY6lYSYt',\n",
       "  'files': [],\n",
       "  'parameters': {'agent_name': 'FlutterFlow',\n",
       "   'assistant_name': 'FlutterFlow',\n",
       "   'chunk_overlap': None,\n",
       "   'chunk_size': None,\n",
       "   'intro': {'en': \"I'm your FlutterFlow assistant. How can I help you?\"},\n",
       "   'max_response_tokens': 1000,\n",
       "   'model_name': 'gpt-4',\n",
       "   'script': '',\n",
       "   'sitelogo_url_or_svg': 'https://flutterflow.io/images/logo_primary_color.svg',\n",
       "   'status': 'active',\n",
       "   'stop': '',\n",
       "   'temperature': 0.8},\n",
       "  'urls': []},\n",
       " {'agent_id': 'BXeL87qjmRyjfmKNAb5G',\n",
       "  'files': [],\n",
       "  'parameters': {'agent_name': 'Stripe explainer',\n",
       "   'assistant_name': 'Stripe',\n",
       "   'chunk_overlap': None,\n",
       "   'chunk_size': None,\n",
       "   'intro': {'en': 'I can help you understand the Stripe payment processor'},\n",
       "   'max_response_tokens': 800,\n",
       "   'model_name': 'gpt-4',\n",
       "   'script': '',\n",
       "   'sitelogo_url_or_svg': '<svg width=\"121\" height=\"25\" viewBox=\"0 0 943 187\" fill=\"none\" xmlns=\"http://www.w3.org/2000/svg\"><title>An image of the Stripe logo</title><path fill-rule=\"evenodd\" clip-rule=\"evenodd\" d=\"M447 96.1048C447 64.3182 431.603 39.2366 402.176 39.2366C372.624 39.2366 354.744 64.3182 354.744 95.8565C354.744 133.231 375.852 152.104 406.149 152.104C420.925 152.104 432.1 148.751 440.543 144.033V119.2C432.1 123.421 422.415 126.029 410.122 126.029C398.078 126.029 387.4 121.807 386.034 107.156H446.752C446.752 105.541 447 99.0848 447 96.1048ZM385.662 84.309C385.662 70.2782 394.229 64.4424 402.052 64.4424C409.626 64.4424 417.697 70.2782 417.697 84.309H385.662Z\" fill=\"#0A2540\"></path><path fill-rule=\"evenodd\" clip-rule=\"evenodd\" d=\"M306.816 39.2366C294.648 39.2366 286.825 44.9482 282.48 48.9216L280.865 41.2232H253.549V186.001L284.59 179.42L284.715 144.281C289.185 147.51 295.765 152.104 306.692 152.104C328.918 152.104 349.157 134.224 349.157 94.8631C349.033 58.8549 328.545 39.2366 306.816 39.2366ZM299.366 124.787C292.04 124.787 287.695 122.18 284.715 118.951L284.59 72.8857C287.819 69.2848 292.289 66.8015 299.366 66.8015C310.665 66.8015 318.488 79.4665 318.488 95.7323C318.488 112.371 310.79 124.787 299.366 124.787Z\" fill=\"#0A2540\"></path><path fill-rule=\"evenodd\" clip-rule=\"evenodd\" d=\"M210.835 31.9108L242.001 25.2058V0L210.835 6.58082V31.9108Z\" fill=\"#0A2540\"></path><path d=\"M242.001 41.3474H210.835V149.993H242.001V41.3474Z\" fill=\"#0A2540\"></path><path fill-rule=\"evenodd\" clip-rule=\"evenodd\" d=\"M177.435 50.5357L175.448 41.3474H148.628V149.993H179.67V76.3624C186.995 66.8015 199.412 68.5399 203.261 69.9057V41.3474C199.288 39.8574 184.76 37.1258 177.435 50.5357Z\" fill=\"#0A2540\"></path><path fill-rule=\"evenodd\" clip-rule=\"evenodd\" d=\"M115.351 14.4033L85.0539 20.86L84.9297 120.317C84.9297 138.694 98.7122 152.228 117.089 152.228C127.271 152.228 134.721 150.366 138.818 148.131V122.925C134.845 124.539 115.226 130.251 115.226 111.874V67.7949H138.818V41.3474H115.226L115.351 14.4033Z\" fill=\"#0A2540\"></path><path fill-rule=\"evenodd\" clip-rule=\"evenodd\" d=\"M31.4142 72.8857C31.4142 68.0432 35.3875 66.1807 41.9683 66.1807C51.405 66.1807 63.325 69.0365 72.7617 74.1273V44.9482C62.4558 40.8507 52.2742 39.2366 41.9683 39.2366C16.7625 39.2366 0 52.3982 0 74.3757C0 108.646 47.1833 103.182 47.1833 117.958C47.1833 123.67 42.2167 125.532 35.2633 125.532C24.9575 125.532 11.7958 121.311 1.36583 115.599V145.151C12.9133 150.117 24.585 152.228 35.2633 152.228C61.09 152.228 78.8458 139.439 78.8458 117.213C78.7217 80.2115 31.4142 86.7923 31.4142 72.8857Z\" fill=\"#0A2540\"></path><path d=\"M502.828 150H541.36C576.616 150 598.144 128.16 598.144 93.9959C598.144 59.8319 576.616 37.9919 541.36 37.9919H502.828V150ZM525.292 130.344V57.6479H541.204C563.044 57.6479 575.524 71.8439 575.524 93.9959C575.524 115.992 563.044 130.344 541.36 130.344H525.292Z\" fill=\"#556CD6\"></path><path d=\"M617.021 93.9959C617.021 127.848 639.173 151.716 670.061 151.716C700.793 151.716 722.945 127.848 722.945 93.9959C722.945 60.1439 700.793 36.2759 670.061 36.2759C639.173 36.2759 617.021 60.1439 617.021 93.9959ZM699.857 93.9959C699.857 116.928 687.533 131.592 670.061 131.592C652.433 131.592 640.109 116.928 640.109 93.9959C640.109 71.0639 652.433 56.3999 670.061 56.3999C687.533 56.3999 699.857 71.0639 699.857 93.9959Z\" fill=\"#556CD6\"></path><path d=\"M763.879 93.9959C763.879 71.2199 775.892 56.3999 793.052 56.3999C805.22 56.3999 814.112 64.0439 817.232 76.5239L838.759 69.3479C832.207 49.0679 816.296 36.2759 793.052 36.2759C762.788 36.2759 740.792 60.1439 740.792 93.9959C740.792 127.848 762.788 151.716 793.052 151.716C816.296 151.716 832.207 138.924 838.759 118.644L817.232 111.468C814.112 123.948 805.22 131.592 793.052 131.592C775.892 131.592 763.879 116.772 763.879 93.9959Z\" fill=\"#556CD6\"></path><path d=\"M851.06 129.564C860.108 143.136 879.764 151.716 898.64 151.716C922.508 151.716 942.476 138.144 942.476 115.524C942.476 91.0319 920.636 86.5079 902.852 82.6079C888.188 79.3319 880.076 77.6159 880.076 68.8799C880.076 60.7679 887.564 55.4639 898.484 55.4639C910.964 55.4639 919.7 61.7039 926.252 70.9079L941.384 56.0879C933.584 44.8559 918.452 36.2759 899.108 36.2759C875.864 36.2759 857.456 49.6919 857.456 71.0639C857.456 93.2159 875.552 98.5199 892.244 102.42C909.092 106.164 919.7 107.568 919.7 117.864C919.7 127.38 911.12 132.528 899.42 132.528C887.096 132.528 875.084 125.976 866.816 114.276L851.06 129.564Z\" fill=\"#556CD6\"></path></svg>',\n",
       "   'status': 'active',\n",
       "   'stop': '',\n",
       "   'temperature': 0.8},\n",
       "  'urls': []},\n",
       " {'agent_id': 'KkAA3I3zS6b3Godn4OzN',\n",
       "  'files': [{'created_at': '2023-05-24T19:04:01.277000+00:00',\n",
       "    'filename': 'Funderbeam Ltd Class Consent - A Preference Shares.pdf',\n",
       "    'in_index': True,\n",
       "    'kbdoc_id': '17M9sooyg0xNstlItjIJ'},\n",
       "   {'created_at': '2023-05-24T19:04:01.688000+00:00',\n",
       "    'filename': 'Funderbeam Ltd Written Resolutions',\n",
       "    'in_index': True,\n",
       "    'kbdoc_id': '5KKqvBhvbhwJbwQ64GYw'},\n",
       "   {'created_at': '2023-05-24T19:04:00.990000+00:00',\n",
       "    'filename': 'Funderbeam Ltd -VentureWave announcement.pdf',\n",
       "    'in_index': True,\n",
       "    'kbdoc_id': 'AM1NaI7dzQAbbZm4wnOb'},\n",
       "   {'created_at': '2023-05-24T19:04:00.855000+00:00',\n",
       "    'filename': 'Funderbeam Ltd -VentureWave announcement',\n",
       "    'in_index': True,\n",
       "    'kbdoc_id': 'BocgylsuHdJTLeme0NEb'},\n",
       "   {'created_at': '2023-05-24T19:04:01.115000+00:00',\n",
       "    'filename': 'Funderbeam Ltd Class Consent - A Preference Shares',\n",
       "    'in_index': True,\n",
       "    'kbdoc_id': 'FdQoz4RGi1qW674T2BRr'},\n",
       "   {'created_at': '2023-05-24T19:04:01.956000+00:00',\n",
       "    'filename': 'New Articles of Association FINAL 20230428',\n",
       "    'in_index': True,\n",
       "    'kbdoc_id': 'P5UvyGWw6tlBrH8ikUQh'},\n",
       "   {'created_at': '2023-05-24T19:04:01.819000+00:00',\n",
       "    'filename': 'Funderbeam Ltd Written Resolutions.pdf',\n",
       "    'in_index': True,\n",
       "    'kbdoc_id': 'QHxCfZr1sTR5CQrRRkTk'},\n",
       "   {'created_at': '2023-05-24T19:04:01.556000+00:00',\n",
       "    'filename': 'Funderbeam Ltd Class Consent - Ordinary Shares.pdf',\n",
       "    'in_index': True,\n",
       "    'kbdoc_id': 'RD2ZCJRbRMr1jFw4wptS'},\n",
       "   {'created_at': '2023-05-24T19:04:02.065000+00:00',\n",
       "    'filename': 'New Articles of Association FINAL 20230428.pdf',\n",
       "    'in_index': True,\n",
       "    'kbdoc_id': 'Thfe1hDAAumoAIUYTFiv'},\n",
       "   {'created_at': '2023-05-24T19:04:01.407000+00:00',\n",
       "    'filename': 'Funderbeam Ltd Class Consent - Ordinary Shares',\n",
       "    'in_index': True,\n",
       "    'kbdoc_id': 'eNXhM35p8A1h12cGCCBm'}],\n",
       "  'parameters': {'agent_name': 'Funderbeam - VentureWave deal explainer',\n",
       "   'assistant_name': 'Funderbeam',\n",
       "   'chunk_overlap': None,\n",
       "   'chunk_size': None,\n",
       "   'intro': {'en': \"I can help you understand the Funderbeam - VentureWave deal's terms and conditions, breaking down the complex jargon into simple, human-understandable language. You can ask in any language you want.\"},\n",
       "   'max_response_tokens': 800,\n",
       "   'model_name': 'gpt-4',\n",
       "   'script': \"You assist to understand Funderbeam - VentureVawe deal's terms and conditions mambo-jambo in huaman understandable language. Keep your answers professional. If the user asks the questions outside of the deal then cut off the conversation with a tasteful and humorous remark. The customer question is the following:\",\n",
       "   'sitelogo_url_or_svg': 'https://daks2k3a4ib2z.cloudfront.net/642dbc701db0d90010ab3908/642dccb47b296255d8be5ec6_White%20on%20Transparent-p-130x130q80.png',\n",
       "   'status': 'active',\n",
       "   'stop': '',\n",
       "   'temperature': 0.8},\n",
       "  'urls': []},\n",
       " {'agent_id': 'SjbZicgTTIVy1kQNoxGW',\n",
       "  'files': [{'created_at': '2023-07-06T11:58:41.692000+00:00',\n",
       "    'filename': '2023_Q1-Shareholder-Letter_FINAL.pdf',\n",
       "    'in_index': True,\n",
       "    'kbdoc_id': 'IqtANNJLnURcidaRmq7f'},\n",
       "   {'created_at': '2023-07-06T11:57:57.138000+00:00',\n",
       "    'filename': 'source.txt',\n",
       "    'in_index': True,\n",
       "    'kbdoc_id': 'kP3kHNuEwoG0vAFykTAU'}],\n",
       "  'parameters': {'agent_name': 'Unity Software analyser',\n",
       "   'assistant_name': 'Unity Software analyser',\n",
       "   'chunk_overlap': 0,\n",
       "   'chunk_size': 400,\n",
       "   'intro': {'en': 'How can I help you?'},\n",
       "   'max_response_tokens': 500,\n",
       "   'model_name': 'gpt-4',\n",
       "   'script': '',\n",
       "   'sitelogo_url_or_svg': 'https://s26.q4cdn.com/977690160/files/design/U_Logo_White_RGB.png',\n",
       "   'status': 'not_active',\n",
       "   'stop': '',\n",
       "   'temperature': 0.5},\n",
       "  'urls': [{'created_at': '2023-07-06T11:58:09.223000+00:00',\n",
       "    'in_index': True,\n",
       "    'kbdoc_id': 'IOPDueRKsEy8oZjWr6n5',\n",
       "    'url': 'https://investors.unity.com/news/news-details/2023/Unity-Announces-Fourth-Quarter-and-Full-Year-2022-Financial-Results/default.aspx'},\n",
       "   {'created_at': '2023-07-06T11:59:05.394000+00:00',\n",
       "    'in_index': True,\n",
       "    'kbdoc_id': 'Y7EbNnQBQsGv2H29Xnh4',\n",
       "    'url': 'https://investors.unity.com/news/news-details/2023/Unity-Named-to-Fast-Companys-Annual-List-of-the-Worlds-Most-Innovative-Companies-for-2023/default.aspx'},\n",
       "   {'created_at': '2023-07-06T11:58:09.309000+00:00',\n",
       "    'in_index': True,\n",
       "    'kbdoc_id': 'hE9mTRKDtHcP5r8DP628',\n",
       "    'url': 'https://investors.unity.com/news/news-details/2023/Unity-Announces-Fourth-Quarter-and-Fiscal-Year-2022-Financial-Results-Webcast/default.aspx'}]},\n",
       " {'agent_id': 'dJO8anzSsYqA6PEpngaX',\n",
       "  'files': [],\n",
       "  'parameters': {'agent_name': 'Unity Software analyser',\n",
       "   'assistant_name': 'Unity Software analyser',\n",
       "   'chunk_overlap': 0,\n",
       "   'chunk_size': 400,\n",
       "   'intro': {'en': 'How can I help you?'},\n",
       "   'max_response_tokens': 500,\n",
       "   'model_name': 'gpt-4',\n",
       "   'script': '',\n",
       "   'sitelogo_url_or_svg': 'https://s26.q4cdn.com/977690160/files/design/U_Logo_White_RGB.png',\n",
       "   'status': 'deleted',\n",
       "   'stop': '',\n",
       "   'temperature': 0.5},\n",
       "  'urls': []},\n",
       " {'agent_id': 'kx2BKzCeLHHS8VncqmyI',\n",
       "  'files': [],\n",
       "  'parameters': {'agent_name': 'Next.js explainer',\n",
       "   'assistant_name': 'Next.js',\n",
       "   'chunk_overlap': None,\n",
       "   'chunk_size': None,\n",
       "   'intro': {'en': 'I can help you understand the Next.js framework. How can I help you?'},\n",
       "   'max_response_tokens': 1000,\n",
       "   'model_name': 'gpt-4',\n",
       "   'script': '',\n",
       "   'sitelogo_url_or_svg': '<svg aria-label=\"Next.js logomark\" class=\"next-mark_root__wLeec\" height=\"80\" role=\"img\" viewBox=\"0 0 180 180\" width=\"80\"><mask height=\"180\" id=\":R0:mask0_408_134\" maskUnits=\"userSpaceOnUse\" style=\"mask-type:alpha\" width=\"180\" x=\"0\" y=\"0\"><circle cx=\"90\" cy=\"90\" fill=\"black\" r=\"90\"></circle></mask><g mask=\"url(#:R0:mask0_408_134)\"><circle cx=\"90\" cy=\"90\" data-circle=\"true\" fill=\"black\" r=\"90\"></circle><path d=\"M149.508 157.52L69.142 54H54V125.97H66.1136V69.3836L139.999 164.845C143.333 162.614 146.509 160.165 149.508 157.52Z\" fill=\"url(#:R0:paint0_linear_408_134)\"></path><rect fill=\"url(#:R0:paint1_linear_408_134)\" height=\"72\" width=\"12\" x=\"115\" y=\"54\"></rect></g><defs><linearGradient gradientUnits=\"userSpaceOnUse\" id=\":R0:paint0_linear_408_134\" x1=\"109\" x2=\"144.5\" y1=\"116.5\" y2=\"160.5\"><stop stop-color=\"white\"></stop><stop offset=\"1\" stop-color=\"white\" stop-opacity=\"0\"></stop></linearGradient><linearGradient gradientUnits=\"userSpaceOnUse\" id=\":R0:paint1_linear_408_134\" x1=\"121\" x2=\"120.799\" y1=\"54\" y2=\"106.875\"><stop stop-color=\"white\"></stop><stop offset=\"1\" stop-color=\"white\" stop-opacity=\"0\"></stop></linearGradient></defs></svg>',\n",
       "   'status': 'active',\n",
       "   'stop': '',\n",
       "   'temperature': 0.8},\n",
       "  'urls': []},\n",
       " {'agent_id': 'nQGrIRuyke84zEXJeHmJ',\n",
       "  'files': [],\n",
       "  'parameters': {'agent_name': 'MakerKit Next.js + Firebase',\n",
       "   'assistant_name': 'MakerKit',\n",
       "   'chunk_overlap': None,\n",
       "   'chunk_size': None,\n",
       "   'intro': {'en': \"I'm your MakerKit assistant. How can I help you?\"},\n",
       "   'max_response_tokens': 1000,\n",
       "   'model_name': 'gpt-4',\n",
       "   'script': '',\n",
       "   'sitelogo_url_or_svg': '<svg class=\"w-[75px] sm:w-[105px]\" viewBox=\"0 0 733 140\" fill=\"none\" xmlns=\"http://www.w3.org/2000/svg\"><path d=\"M119.081 138V73.209C119.081 67.551 117.08 62.79 113.078 58.926C109.214 55.062 104.453 53.13 98.7951 53.13C93.2751 53.13 88.4451 55.062 84.3051 58.926C80.3031 62.652 78.3021 67.344 78.3021 73.002V138H59.4651V73.002C59.4651 67.206 57.5331 62.514 53.6691 58.926C49.5291 55.062 44.6301 53.13 38.9721 53.13C33.4521 53.13 28.7601 55.062 24.8961 58.926C20.7561 63.066 18.6861 67.965 18.6861 73.623V138H0.0560548V36.984H18.6861V44.643C21.0321 41.745 24.0681 39.33 27.7941 37.398C31.6581 35.466 35.3841 34.5 38.9721 34.5C45.0441 34.5 50.5641 35.742 55.5321 38.226C60.6381 40.572 65.0541 43.884 68.7801 48.162C72.5061 43.884 76.9221 40.572 82.0281 38.226C87.1341 35.742 92.7231 34.5 98.7951 34.5C104.177 34.5 109.214 35.466 113.906 37.398C118.598 39.33 122.738 42.09 126.326 45.678C129.914 49.266 132.674 53.475 134.606 58.305C136.676 62.997 137.711 67.965 137.711 73.209V138H119.081ZM242.173 138V122.268C237.757 127.374 232.651 131.445 226.855 134.481C221.059 137.517 214.918 139.035 208.432 139.035C201.256 139.035 194.494 137.724 188.146 135.102C181.936 132.48 176.416 128.754 171.586 123.924C166.756 119.232 162.961 113.712 160.201 107.364C157.579 100.878 156.268 94.116 156.268 87.078C156.268 80.04 157.579 73.347 160.201 66.999C162.961 60.513 166.756 54.855 171.586 50.025C176.416 45.195 181.936 41.469 188.146 38.847C194.494 36.225 201.256 34.914 208.432 34.914C215.056 34.914 221.266 36.294 227.062 39.054C232.996 41.814 238.033 45.678 242.173 50.646V36.984H260.803V138H242.173ZM208.432 53.337C203.878 53.337 199.462 54.234 195.184 56.028C191.044 57.684 187.456 60.03 184.42 63.066C181.384 66.102 178.969 69.759 177.175 74.037C175.519 78.177 174.691 82.524 174.691 87.078C174.691 91.632 175.519 95.979 177.175 100.119C178.969 104.259 181.384 107.847 184.42 110.883C187.456 113.919 191.044 116.334 195.184 118.128C199.462 119.784 203.878 120.612 208.432 120.612C212.986 120.612 217.333 119.784 221.473 118.128C225.613 116.334 229.201 113.919 232.237 110.883C235.273 107.847 237.619 104.259 239.275 100.119C241.069 95.979 241.966 91.632 241.966 87.078C241.966 82.524 241.069 78.177 239.275 74.037C237.619 69.759 235.273 66.102 232.237 63.066C229.201 60.03 225.613 57.684 221.473 56.028C217.333 54.234 212.986 53.337 208.432 53.337ZM331.127 138L299.663 99.705V138H281.447V0.344996H299.663V59.754L327.815 33.258H354.932L305.873 78.798L355.139 138H331.127ZM379.299 94.116C379.299 97.428 380.472 100.878 382.818 104.466C385.302 108.054 388.131 111.09 391.305 113.574C397.101 118.128 403.863 120.405 411.591 120.405C423.873 120.405 433.878 114.471 441.606 102.603L457.338 111.918C451.956 120.612 445.332 127.305 437.466 131.997C429.6 136.689 420.975 139.035 411.591 139.035C404.553 139.035 397.86 137.724 391.512 135.102C385.164 132.342 379.575 128.547 374.745 123.717C369.915 118.887 366.12 113.298 363.36 106.95C360.738 100.602 359.427 93.909 359.427 86.871C359.427 79.833 360.738 73.14 363.36 66.792C366.12 60.306 369.915 54.648 374.745 49.818C379.437 44.988 384.957 41.262 391.305 38.64C397.791 36.018 404.553 34.707 411.591 34.707C418.629 34.707 425.322 36.018 431.67 38.64C438.156 41.262 443.745 44.988 448.437 49.818C458.649 60.306 463.755 72.45 463.755 86.25C463.755 88.734 463.548 91.356 463.134 94.116H379.299ZM411.591 51.681C405.933 51.681 400.62 52.923 395.652 55.407C390.684 57.891 386.682 61.203 383.646 65.343C380.748 69.345 379.299 73.623 379.299 78.177H443.883C443.883 73.623 442.365 69.345 439.329 65.343C436.431 61.203 432.498 57.891 427.53 55.407C422.562 52.923 417.249 51.681 411.591 51.681ZM528.543 54.372C525.231 52.854 522.264 52.095 519.642 52.095C514.122 52.095 509.568 54.027 505.98 57.891C502.116 62.031 500.184 66.792 500.184 72.174V138H482.382V72.174C482.382 64.722 484.245 57.891 487.971 51.681C491.835 45.471 497.079 40.641 503.703 37.191C508.671 34.845 513.984 33.672 519.642 33.672C524.196 33.672 528.543 34.5 532.683 36.156C536.823 37.812 541.17 40.503 545.724 44.229L528.543 54.372ZM610.092 138L578.628 99.705V138H560.412V0.344996H578.628V59.754L606.78 33.258H633.897L584.838 78.798L634.104 138H610.092ZM656.049 19.596C653.427 19.596 651.15 18.699 649.218 16.905C647.424 14.973 646.527 12.696 646.527 10.074C646.527 7.45199 647.424 5.24399 649.218 3.44999C651.15 1.51799 653.427 0.551993 656.049 0.551993C658.671 0.551993 660.879 1.51799 662.673 3.44999C664.605 5.24399 665.571 7.45199 665.571 10.074C665.571 12.696 664.605 14.973 662.673 16.905C660.879 18.699 658.671 19.596 656.049 19.596ZM647.562 138V34.5H664.95V138H647.562ZM717.4 53.13V138H699.805V53.13H684.28V34.5H699.805V0.344996H717.4V34.5H732.925V53.13H717.4Z\" fill=\"url(#paint0_linear_1666_2)\"></path><defs><linearGradient id=\"paint0_linear_1666_2\" x1=\"1.12419\" y1=\"78\" x2=\"724.566\" y2=\"63.6614\" gradientUnits=\"userSpaceOnUse\"><stop stop-color=\"#0E73CC\"></stop><stop offset=\"0.255208\" stop-color=\"#8E79DE\"></stop><stop offset=\"0.494792\" stop-color=\"#EF4444\"></stop><stop offset=\"0.755208\" stop-color=\"#FCB061\"></stop><stop offset=\"1\" stop-color=\"#FFE81D\"></stop></linearGradient></defs></svg>',\n",
       "   'status': 'active',\n",
       "   'stop': '',\n",
       "   'temperature': 0.8},\n",
       "  'urls': []},\n",
       " {'agent_id': 'zgL62fK5oVcdNAhQIP0F',\n",
       "  'files': [{'created_at': '2023-07-05T14:35:29.875000+00:00',\n",
       "    'filename': 'source.txt',\n",
       "    'in_index': True,\n",
       "    'kbdoc_id': 'DhLFUCLvWEESycXKLKbZ'},\n",
       "   {'created_at': '2023-07-05T14:37:35.429000+00:00',\n",
       "    'filename': '2023_Q1-Shareholder-Letter_FINAL.pdf',\n",
       "    'in_index': True,\n",
       "    'kbdoc_id': 'nXWuIU0ZaunGqtaeQg1l'}],\n",
       "  'parameters': {'agent_name': 'Unity Software analyser',\n",
       "   'assistant_name': 'Unity Software analyser',\n",
       "   'chunk_overlap': 0,\n",
       "   'chunk_size': 400,\n",
       "   'intro': {'en': 'How can I help you?'},\n",
       "   'max_response_tokens': 500,\n",
       "   'model_name': 'gpt-4',\n",
       "   'script': '',\n",
       "   'sitelogo_url_or_svg': 'https://s26.q4cdn.com/977690160/files/design/U_Logo_White_RGB.png',\n",
       "   'status': 'not_active',\n",
       "   'stop': '',\n",
       "   'temperature': 0.5},\n",
       "  'urls': [{'created_at': '2023-07-05T14:35:39.352000+00:00',\n",
       "    'in_index': True,\n",
       "    'kbdoc_id': 'BZcu5NviZCp5HPgNVAKV',\n",
       "    'url': 'https://investors.unity.com/news/news-details/2023/Unity-Announces-Fourth-Quarter-and-Fiscal-Year-2022-Financial-Results-Webcast/default.aspx'},\n",
       "   {'created_at': '2023-07-05T14:38:08.301000+00:00',\n",
       "    'in_index': True,\n",
       "    'kbdoc_id': 'HibMU13IVbEaBQ0lySIb',\n",
       "    'url': 'https://investors.unity.com/news/news-details/2023/Unity-Named-to-Fast-Companys-Annual-List-of-the-Worlds-Most-Innovative-Companies-for-2023/default.aspx'},\n",
       "   {'created_at': '2023-07-05T14:35:39.274000+00:00',\n",
       "    'in_index': True,\n",
       "    'kbdoc_id': 'RKHJMzA1JkJS5Atgdn1c',\n",
       "    'url': 'https://investors.unity.com/news/news-details/2023/Unity-Announces-Fourth-Quarter-and-Full-Year-2022-Financial-Results/default.aspx'}]}]"
      ]
     },
     "execution_count": 19,
     "metadata": {},
     "output_type": "execute_result"
    }
   ],
   "source": [
    "# 4.A. List agents after one agent is created\n",
    "list_response = requests.get(f'{base_url}/v1/agents', headers=headers)\n",
    "print (list_response.status_code)\n",
    "[agent for agent in list_response.json()]"
   ]
  },
  {
   "attachments": {},
   "cell_type": "markdown",
   "metadata": {},
   "source": [
    "# Interactions"
   ]
  },
  {
   "cell_type": "code",
   "execution_count": 20,
   "metadata": {},
   "outputs": [
    {
     "name": "stdout",
     "output_type": "stream",
     "text": [
      "200\n",
      "Sure, here's a SWOT analysis for Unity:\n",
      "\n",
      "Strengths:\n",
      "1. Market Leader: Unity is one of the\n",
      "leading platforms for creating and operating interactive 3D content. It has a strong presence in the gaming industry and is also expanding into other\n",
      "industries.\n",
      "2. Robust Platform: Unity offers a comprehensive set of software solutions that support creators through the entire\n",
      "development lifecycle. This makes it a one-stop-shop for developers.\n",
      "3. Large User Base: Unity's platform is used by millions of\n",
      "developers around the world, creating a strong network effect.\n",
      "4. Strong Partnerships: Unity has formed strong partnerships with\n",
      "major companies such as Outfit7, Second Dinner, and more. These partnerships help to boost Unity's reputation and user\n",
      "base.\n",
      "\n",
      "Weaknesses:\n",
      "1. High Dependence on Gaming Industry: While Unity is expanding into\n",
      "other industries, it still heavily relies on the gaming industry. Any downturn in this industry could significantly impact Unity's\n",
      "performance.\n",
      "2. Workforce Reduction: Unity's recent decision to reduce its workforce by 8% may impact morale and productivity in\n",
      "the short term.\n",
      "3. Competitive Market: Unity operates in a highly competitive market, with strong competitors like Unreal Engine.\n",
      "\n",
      "\n",
      "Opportunities:\n",
      "1. Expansion into New Industries: Unity can leverage its platform to\n",
      "expand into new industries such as healthcare, education, and automotive.\n",
      "2. AI Integration: Unity's focus on integrating AI\n",
      "technologies could provide new opportunities for growth and profitability.\n",
      "3. Growth in AR/VR: The growing popularity of augmented\n",
      "reality (AR) and virtual reality (VR) presents a significant opportunity for\n",
      "Unity.\n",
      "\n",
      "Threats:\n",
      "1. Technological Changes: Rapid changes in technology could render\n",
      "Unity's platform obsolete if it fails to keep up.\n",
      "2. Strong Competition: Unity faces strong competition from other game\n",
      "development platforms like Unreal Engine and Godot. \n",
      "3. Regulatory Changes: Changes in privacy laws and regulations could impact\n",
      "Unity's ability to collect and use data, potentially affecting its AI and machine learning capabilities.\n",
      "4. Economic Instability:\n",
      "Economic downturns or instability could impact Unity's customer base and revenue.\n"
     ]
    }
   ],
   "source": [
    "\n",
    "# 8.A. Chat user sends a, interaction request to the agent\n",
    "prompt = 'Make Unity SWOT analysis please' \n",
    "response = requests.post(f'{base_url}/v1/agents/{agent_id}/interaction', headers=headers, json={\n",
    "    'prompt': prompt\n",
    "})\n",
    "print(response.status_code)\n",
    "response_content = response.json()['choices'][0]['message']['content']\n",
    "wrapped_print(response_content)"
   ]
  },
  {
   "attachments": {},
   "cell_type": "markdown",
   "metadata": {},
   "source": [
    "# Add history in interactions"
   ]
  },
  {
   "cell_type": "code",
   "execution_count": 22,
   "metadata": {},
   "outputs": [
    {
     "name": "stdout",
     "output_type": "stream",
     "text": [
      "200\n",
      "Apologies for the misunderstanding earlier. Let's revisit the SWOT analysis in light of Unity's recent quarterly\n",
      "results.\n",
      "\n",
      "Strengths:\n",
      "- Strong Revenue Growth: The 56% year-over-year increase in revenue\n",
      "reaffirms Unity's strong market position and the effectiveness of its business model. This could enhance its reputation and attract more developers to\n",
      "its platform.\n",
      "- Profitability Improvement: The improved adjusted EBITDA indicates that Unity is moving towards profitability,\n",
      "which strengthens its financial position.\n",
      "\n",
      "Weaknesses:\n",
      "- Continued Net Loss: Despite\n",
      "strong revenue growth, Unity reported a GAAP net loss of $254 million. This indicates that the company is still struggling to control costs and\n",
      "achieve consistent profitability.\n",
      "\n",
      "Opportunities:\n",
      "- AI Adoption: Unity’s excitement about\n",
      "the rate of adoption of AI tools, and their expectation that AI will be a tailwind for many years to come, suggests a significant opportunity. The\n",
      "company's ability to leverage AI could drive further growth and profitability.\n",
      "\n",
      "Threats:\n",
      "-\n",
      "Market Competition: Despite strong performance, Unity operates in a highly competitive market. Unity's ability to continue outperforming its guidance\n",
      "and expectations will be crucial in maintaining its market position.\n",
      "\n",
      "In conclusion, Unity's recent quarterly\n",
      "results strengthen several aspects of the SWOT analysis, particularly its strengths and opportunities. However, the continued net loss underscores the\n",
      "ongoing challenges Unity faces in achieving consistent profitability.\n"
     ]
    }
   ],
   "source": [
    "history = [{\"role\": \"user\", \"content\": prompt}, {\"role\": \"assistant\", \"content\": response_content}]\n",
    "\n",
    "prompt = 'What is the recent quater results impact to the SWOT analysis you made?' \n",
    "response = requests.post(f'{base_url}/v1/agents/{agent_id}/interaction', headers=headers, json={\n",
    "    'prompt': prompt, 'history': history\n",
    "})\n",
    "print(response.status_code)\n",
    "response_content = response.json()['choices'][0]['message']['content']\n",
    "wrapped_print(response_content)\n"
   ]
  },
  {
   "attachments": {},
   "cell_type": "markdown",
   "metadata": {},
   "source": [
    "# Delete the agent"
   ]
  },
  {
   "cell_type": "code",
   "execution_count": null,
   "metadata": {},
   "outputs": [],
   "source": [
    "\n",
    "response = requests.delete(f'{base_url}/v1/agents/{agent_id}', headers=headers)\n",
    "print(response.status_code)\n",
    "\n",
    "response.json()['message']"
   ]
  }
 ],
 "metadata": {
  "kernelspec": {
   "display_name": "Python 3",
   "language": "python",
   "name": "python3"
  },
  "language_info": {
   "codemirror_mode": {
    "name": "ipython",
    "version": 3
   },
   "file_extension": ".py",
   "mimetype": "text/x-python",
   "name": "python",
   "nbconvert_exporter": "python",
   "pygments_lexer": "ipython3",
   "version": "3.10.9"
  },
  "orig_nbformat": 4
 },
 "nbformat": 4,
 "nbformat_minor": 2
}
