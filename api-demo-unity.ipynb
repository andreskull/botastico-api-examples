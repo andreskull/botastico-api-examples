{
 "cells": [
  {
   "attachments": {},
   "cell_type": "markdown",
   "metadata": {},
   "source": [
    "# Use Case: Unity Software (U) analysis\n",
    "\n",
    "The use case creates an agent that has the recent Unity Software (U) earnings reports and can anser questios about it.\n",
    "\n",
    "We go through the following steps:\n",
    "- create an agent\n",
    "- list the agent to see the agent's configuration parameters\n",
    "- upload a file to the agent knowledge-base\n",
    "- add URLs to scrape the text from websites to knowledge base\n",
    "- list the agent to see which documents the agent's index (knowledge base) includes\n",
    "- interact with agent\n",
    "- delete the agent"
   ]
  },
  {
   "cell_type": "code",
   "execution_count": 1,
   "metadata": {},
   "outputs": [],
   "source": [
    "import os\n",
    "import requests\n",
    "from dotenv import load_dotenv\n",
    "import sys\n",
    "\n",
    "load_dotenv()\n",
    "\n",
    "# this is just the test wrapper that makes agent output nice on this notebook\n",
    "\n",
    "from textwrap import TextWrapper\n",
    "\n",
    "def wrapped_print(text):\n",
    "    wrapper = TextWrapper(width=150)\n",
    "    # Replace newline characters with a placeholder\n",
    "    text = text.replace('\\n', '<newline_placeholder>')\n",
    "\n",
    "    # Wrap the text\n",
    "    wrapped_text = wrapper.fill(text)\n",
    "\n",
    "    # Replace the placeholder with newline characters again\n",
    "    formatted_text = wrapped_text.replace('<newline_placeholder>', '\\n')\n",
    "\n",
    "    print(formatted_text)\n"
   ]
  },
  {
   "cell_type": "code",
   "execution_count": 2,
   "metadata": {},
   "outputs": [],
   "source": [
    "api_key = os.environ.get(\"BOTASTICO_API_KEY\")\n",
    "base_url = os.environ.get(f'BASE_URL')\n",
    "headers = {'Authorization': f'Bearer {api_key}'}"
   ]
  },
  {
   "cell_type": "code",
   "execution_count": 3,
   "metadata": {},
   "outputs": [
    {
     "data": {
      "text/plain": [
       "'https://botastico-api-production-3qrwuust2a-nw.a.run.app'"
      ]
     },
     "execution_count": 3,
     "metadata": {},
     "output_type": "execute_result"
    }
   ],
   "source": [
    "base_url"
   ]
  },
  {
   "attachments": {},
   "cell_type": "markdown",
   "metadata": {},
   "source": [
    "# Create an agent"
   ]
  },
  {
   "cell_type": "code",
   "execution_count": 5,
   "metadata": {},
   "outputs": [
    {
     "name": "stdout",
     "output_type": "stream",
     "text": [
      "200\n",
      "{'agent_id': 'EWaLXDjjIV99IvB4NUTv', 'status': 'success'}\n"
     ]
    }
   ],
   "source": [
    "agent_data = {\n",
    "        \"agent_name\": \"Unity Software analyser\",\n",
    "        \"source_text\": \"Unity Software Inc. operates a platform that provides real-time 3D development tools and services. Its platform provides software solutions to create, run, and monetize interactive, real-time 2D and 3D content for mobile phones, tablets, PCs, consoles, and augmented and virtual reality devices. The company serves enterprises, mid-market companies, and government and non-profit institutions; mid-sized, small, and independent businesses; and individuals across various industries. It offers its solutions directly through its online store, field sales operations, independent distributors, and resellers in North America, Denmark, China, Finland, the United Kingdom, Germany, Israel, Japan, Singapore, South Korea, Spain, and internationally. The company was founded in 2004 and is headquartered in San Francisco, California.\",\n",
    "        \"source_urls\": [\"https://investors.unity.com/news/news-details/2023/Unity-Announces-Fourth-Quarter-and-Fiscal-Year-2022-Financial-Results-Webcast/default.aspx\",\n",
    "                        \"https://investors.unity.com/news/news-details/2023/Unity-Announces-Fourth-Quarter-and-Full-Year-2022-Financial-Results/default.aspx\"],\n",
    "        \"chunk_size\": 400,\n",
    "        \"chunk_overlap\": 0,\n",
    "        \"model_name\": \"gpt-3.5-turbo\",\n",
    "        \"temperature\": 0.5,\n",
    "        \"max_response_tokens\": 500,\n",
    "        \"stop\": \"\",\n",
    "        \"script\": \"\",\n",
    "        \"assistant_name\": \"Unity Software analyser\",\n",
    "        \"intro\": {\"en\": \"How can I help you?\"},\n",
    "        \"sitelogo_url_or_svg\": \"https://s26.q4cdn.com/977690160/files/design/U_Logo_White_RGB.png\",\n",
    "        \"url_loader\": \"unstructured\",\n",
    "    }\n",
    "\n",
    "create_response = requests.post(f'{base_url}/v1/agents', json=agent_data, headers=headers)\n",
    "print (create_response.status_code)\n",
    "print(create_response.json())"
   ]
  },
  {
   "attachments": {},
   "cell_type": "markdown",
   "metadata": {},
   "source": [
    "# List the agents"
   ]
  },
  {
   "cell_type": "code",
   "execution_count": 6,
   "metadata": {},
   "outputs": [
    {
     "data": {
      "text/plain": [
       "'EWaLXDjjIV99IvB4NUTv'"
      ]
     },
     "execution_count": 6,
     "metadata": {},
     "output_type": "execute_result"
    }
   ],
   "source": [
    "agent_id = create_response.json()['agent_id']\n",
    "agent_id"
   ]
  },
  {
   "cell_type": "code",
   "execution_count": null,
   "metadata": {},
   "outputs": [],
   "source": [
    "# 4.A. List agents after one agent is created\n",
    "list_response = requests.get(f'{base_url}/v1/agents?agent_ids={agent_id}', headers=headers)\n",
    "print (list_response.status_code)\n",
    "list_response.json()"
   ]
  },
  {
   "cell_type": "code",
   "execution_count": null,
   "metadata": {},
   "outputs": [],
   "source": [
    "# get from agents list an agent with agent_id as a key\n",
    "[agent for agent in list_response.json() if agent['agent_id'] == agent_id][0]"
   ]
  },
  {
   "attachments": {},
   "cell_type": "markdown",
   "metadata": {},
   "source": [
    "# Upload files"
   ]
  },
  {
   "cell_type": "code",
   "execution_count": null,
   "metadata": {},
   "outputs": [],
   "source": [
    "pdf_file_name = '2023_Q1-Shareholder-Letter_FINAL.pdf'\n",
    "current_dir = os.getcwd()\n",
    "test_pdf_path = os.path.join(current_dir, 'data_files', pdf_file_name)\n",
    "with open(test_pdf_path, 'rb') as f:\n",
    "    upload_response = requests.post(f'{base_url}/v1/agents/{agent_id}/kb/file', headers=headers, files={'file': (pdf_file_name, f)})\n",
    "\n",
    "print (upload_response.status_code)\n",
    "upload_response.json()"
   ]
  },
  {
   "attachments": {},
   "cell_type": "markdown",
   "metadata": {},
   "source": [
    "# Add URLs to scrape"
   ]
  },
  {
   "cell_type": "code",
   "execution_count": null,
   "metadata": {},
   "outputs": [],
   "source": [
    "urls_to_scrape = ['https://investors.unity.com/news/news-details/2023/Unity-Named-to-Fast-Companys-Annual-List-of-the-Worlds-Most-Innovative-Companies-for-2023/default.aspx']\n",
    "scrape_response = requests.post(f'{base_url}/v1/agents/{agent_id}/kb/urls/scrape', headers=headers, json={'urls': urls_to_scrape, 'loader_type': 'unstructured'})\n",
    "print (scrape_response.status_code)\n",
    "scrape_response.json()"
   ]
  },
  {
   "attachments": {},
   "cell_type": "markdown",
   "metadata": {},
   "source": [
    "# List agents"
   ]
  },
  {
   "cell_type": "code",
   "execution_count": null,
   "metadata": {},
   "outputs": [],
   "source": [
    "# 4.A. List agents after one agent is created\n",
    "list_response = requests.get(f'{base_url}/v1/agents', headers=headers)\n",
    "print (list_response.status_code)\n",
    "[agent for agent in list_response.json()]"
   ]
  },
  {
   "attachments": {},
   "cell_type": "markdown",
   "metadata": {},
   "source": [
    "# Interactions"
   ]
  },
  {
   "cell_type": "code",
   "execution_count": 20,
   "metadata": {},
   "outputs": [
    {
     "name": "stdout",
     "output_type": "stream",
     "text": [
      "200\n",
      "Sure, here's a SWOT analysis for Unity:\n",
      "\n",
      "Strengths:\n",
      "1. Market Leader: Unity is one of the\n",
      "leading platforms for creating and operating interactive 3D content. It has a strong presence in the gaming industry and is also expanding into other\n",
      "industries.\n",
      "2. Robust Platform: Unity offers a comprehensive set of software solutions that support creators through the entire\n",
      "development lifecycle. This makes it a one-stop-shop for developers.\n",
      "3. Large User Base: Unity's platform is used by millions of\n",
      "developers around the world, creating a strong network effect.\n",
      "4. Strong Partnerships: Unity has formed strong partnerships with\n",
      "major companies such as Outfit7, Second Dinner, and more. These partnerships help to boost Unity's reputation and user\n",
      "base.\n",
      "\n",
      "Weaknesses:\n",
      "1. High Dependence on Gaming Industry: While Unity is expanding into\n",
      "other industries, it still heavily relies on the gaming industry. Any downturn in this industry could significantly impact Unity's\n",
      "performance.\n",
      "2. Workforce Reduction: Unity's recent decision to reduce its workforce by 8% may impact morale and productivity in\n",
      "the short term.\n",
      "3. Competitive Market: Unity operates in a highly competitive market, with strong competitors like Unreal Engine.\n",
      "\n",
      "\n",
      "Opportunities:\n",
      "1. Expansion into New Industries: Unity can leverage its platform to\n",
      "expand into new industries such as healthcare, education, and automotive.\n",
      "2. AI Integration: Unity's focus on integrating AI\n",
      "technologies could provide new opportunities for growth and profitability.\n",
      "3. Growth in AR/VR: The growing popularity of augmented\n",
      "reality (AR) and virtual reality (VR) presents a significant opportunity for\n",
      "Unity.\n",
      "\n",
      "Threats:\n",
      "1. Technological Changes: Rapid changes in technology could render\n",
      "Unity's platform obsolete if it fails to keep up.\n",
      "2. Strong Competition: Unity faces strong competition from other game\n",
      "development platforms like Unreal Engine and Godot. \n",
      "3. Regulatory Changes: Changes in privacy laws and regulations could impact\n",
      "Unity's ability to collect and use data, potentially affecting its AI and machine learning capabilities.\n",
      "4. Economic Instability:\n",
      "Economic downturns or instability could impact Unity's customer base and revenue.\n"
     ]
    }
   ],
   "source": [
    "\n",
    "# 8.A. Chat user sends a, interaction request to the agent\n",
    "prompt = 'Make Unity SWOT analysis please' \n",
    "response = requests.post(f'{base_url}/v1/agents/{agent_id}/interactions', headers=headers, json={\n",
    "    'prompt': prompt\n",
    "})\n",
    "print(response.status_code)\n",
    "response_content = response.json()['choices'][0]['message']['content']\n",
    "wrapped_print(response_content)"
   ]
  },
  {
   "attachments": {},
   "cell_type": "markdown",
   "metadata": {},
   "source": [
    "# Add history in interactions"
   ]
  },
  {
   "cell_type": "code",
   "execution_count": 22,
   "metadata": {},
   "outputs": [
    {
     "name": "stdout",
     "output_type": "stream",
     "text": [
      "200\n",
      "Apologies for the misunderstanding earlier. Let's revisit the SWOT analysis in light of Unity's recent quarterly\n",
      "results.\n",
      "\n",
      "Strengths:\n",
      "- Strong Revenue Growth: The 56% year-over-year increase in revenue\n",
      "reaffirms Unity's strong market position and the effectiveness of its business model. This could enhance its reputation and attract more developers to\n",
      "its platform.\n",
      "- Profitability Improvement: The improved adjusted EBITDA indicates that Unity is moving towards profitability,\n",
      "which strengthens its financial position.\n",
      "\n",
      "Weaknesses:\n",
      "- Continued Net Loss: Despite\n",
      "strong revenue growth, Unity reported a GAAP net loss of $254 million. This indicates that the company is still struggling to control costs and\n",
      "achieve consistent profitability.\n",
      "\n",
      "Opportunities:\n",
      "- AI Adoption: Unity’s excitement about\n",
      "the rate of adoption of AI tools, and their expectation that AI will be a tailwind for many years to come, suggests a significant opportunity. The\n",
      "company's ability to leverage AI could drive further growth and profitability.\n",
      "\n",
      "Threats:\n",
      "-\n",
      "Market Competition: Despite strong performance, Unity operates in a highly competitive market. Unity's ability to continue outperforming its guidance\n",
      "and expectations will be crucial in maintaining its market position.\n",
      "\n",
      "In conclusion, Unity's recent quarterly\n",
      "results strengthen several aspects of the SWOT analysis, particularly its strengths and opportunities. However, the continued net loss underscores the\n",
      "ongoing challenges Unity faces in achieving consistent profitability.\n"
     ]
    }
   ],
   "source": [
    "history = [{\"role\": \"user\", \"content\": prompt}, {\"role\": \"assistant\", \"content\": response_content}]\n",
    "\n",
    "prompt = 'What is the recent quater results impact to the SWOT analysis you made?' \n",
    "response = requests.post(f'{base_url}/v1/agents/{agent_id}/interactions', headers=headers, json={\n",
    "    'prompt': prompt, 'history': history\n",
    "})\n",
    "print(response.status_code)\n",
    "response_content = response.json()['choices'][0]['message']['content']\n",
    "wrapped_print(response_content)\n"
   ]
  },
  {
   "attachments": {},
   "cell_type": "markdown",
   "metadata": {},
   "source": [
    "# Delete the agent"
   ]
  },
  {
   "cell_type": "code",
   "execution_count": null,
   "metadata": {},
   "outputs": [],
   "source": [
    "\n",
    "response = requests.delete(f'{base_url}/v1/agents/{agent_id}', headers=headers)\n",
    "print(response.status_code)\n",
    "\n",
    "response.json()['message']"
   ]
  }
 ],
 "metadata": {
  "kernelspec": {
   "display_name": "Python 3",
   "language": "python",
   "name": "python3"
  },
  "language_info": {
   "codemirror_mode": {
    "name": "ipython",
    "version": 3
   },
   "file_extension": ".py",
   "mimetype": "text/x-python",
   "name": "python",
   "nbconvert_exporter": "python",
   "pygments_lexer": "ipython3",
   "version": "3.10.12"
  },
  "orig_nbformat": 4
 },
 "nbformat": 4,
 "nbformat_minor": 2
}
