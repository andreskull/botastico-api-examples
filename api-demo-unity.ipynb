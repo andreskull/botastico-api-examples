{
 "cells": [
  {
   "attachments": {},
   "cell_type": "markdown",
   "metadata": {},
   "source": [
    "# Use Case: Unity Software (U) analysis\n",
    "\n",
    "The use case creates an agent that has the recent Unity Software (U) earnings reports and can anser questios about it.\n",
    "\n",
    "We go through the following steps:\n",
    "- create an agent\n",
    "- list the agent to see the agent's configuration parameters\n",
    "- upload a file to the agent knowledge-base\n",
    "- add URLs to scrape the text from websites to knowledge base\n",
    "- list the agent to see which documents the agent's index (knowledge base) includes\n",
    "- interact with agent\n",
    "- delete the agent"
   ]
  },
  {
   "cell_type": "code",
   "execution_count": 4,
   "metadata": {},
   "outputs": [],
   "source": [
    "import os\n",
    "import requests\n",
    "from dotenv import load_dotenv\n",
    "import sys\n",
    "\n",
    "load_dotenv()\n",
    "\n",
    "# this is just the test wrapper that makes agent output nice on this notebook\n",
    "\n",
    "from textwrap import TextWrapper\n",
    "\n",
    "def wrapped_print(text):\n",
    "    wrapper = TextWrapper(width=150)\n",
    "    # Replace newline characters with a placeholder\n",
    "    text = text.replace('\\n', '<newline_placeholder>')\n",
    "\n",
    "    # Wrap the text\n",
    "    wrapped_text = wrapper.fill(text)\n",
    "\n",
    "    # Replace the placeholder with newline characters again\n",
    "    formatted_text = wrapped_text.replace('<newline_placeholder>', '\\n')\n",
    "\n",
    "    print(formatted_text)\n"
   ]
  },
  {
   "cell_type": "code",
   "execution_count": 5,
   "metadata": {},
   "outputs": [],
   "source": [
    "api_key = os.getenv(f\"BOTASTICO_API_KEY\")\n",
    "base_url = os.environ.get(f'BASE_URL')\n",
    "headers = {'Authorization': f'Bearer {api_key}'}"
   ]
  },
  {
   "attachments": {},
   "cell_type": "markdown",
   "metadata": {},
   "source": [
    "# Create an agent"
   ]
  },
  {
   "cell_type": "code",
   "execution_count": null,
   "metadata": {},
   "outputs": [],
   "source": [
    "agent_data = {\n",
    "        \"agent_name\": \"Unity Software analyser\",\n",
    "        \"source_text\": \"Unity Software Inc. operates a platform that provides real-time 3D development tools and services. Its platform provides software solutions to create, run, and monetize interactive, real-time 2D and 3D content for mobile phones, tablets, PCs, consoles, and augmented and virtual reality devices. The company serves enterprises, mid-market companies, and government and non-profit institutions; mid-sized, small, and independent businesses; and individuals across various industries. It offers its solutions directly through its online store, field sales operations, independent distributors, and resellers in North America, Denmark, China, Finland, the United Kingdom, Germany, Israel, Japan, Singapore, South Korea, Spain, and internationally. The company was founded in 2004 and is headquartered in San Francisco, California.\",\n",
    "        \"source_urls\": [\"https://investors.unity.com/news/news-details/2023/Unity-Announces-Fourth-Quarter-and-Fiscal-Year-2022-Financial-Results-Webcast/default.aspx\",\n",
    "                        \"https://investors.unity.com/news/news-details/2023/Unity-Announces-Fourth-Quarter-and-Full-Year-2022-Financial-Results/default.aspx\"],\n",
    "        \"chunk_size\": 400,\n",
    "        \"chunk_overlap\": 0,\n",
    "        \"model_name\": \"gpt-4\",\n",
    "        \"temperature\": 0.5,\n",
    "        \"max_response_tokens\": 500,\n",
    "        \"stop\": \"\",\n",
    "        \"script\": \"\",\n",
    "        \"assistant_name\": \"Unity Software analyser\",\n",
    "        \"intro\": {\"en\": \"How can I help you?\"},\n",
    "        \"sitelogo_url_or_svg\": \"https://s26.q4cdn.com/977690160/files/design/U_Logo_White_RGB.png\",\n",
    "        \"url_loader\": \"unstructured\",\n",
    "    }\n",
    "\n",
    "create_response = requests.post(f'{base_url}/v1/agents', json=agent_data, headers=headers)\n",
    "print (create_response.status_code)\n",
    "print(create_response.json())"
   ]
  },
  {
   "attachments": {},
   "cell_type": "markdown",
   "metadata": {},
   "source": [
    "# List the agents"
   ]
  },
  {
   "cell_type": "code",
   "execution_count": null,
   "metadata": {},
   "outputs": [],
   "source": [
    "agent_id = create_response.json()['agent_id']\n",
    "agent_id"
   ]
  },
  {
   "cell_type": "code",
   "execution_count": null,
   "metadata": {},
   "outputs": [],
   "source": [
    "# 4.A. List agents after one agent is created\n",
    "list_response = requests.get(f'{base_url}/v1/agents?agent_ids={agent_id}', headers=headers)\n",
    "print (list_response.status_code)\n",
    "list_response.json()"
   ]
  },
  {
   "cell_type": "code",
   "execution_count": null,
   "metadata": {},
   "outputs": [],
   "source": [
    "# get from agents list an agent with agent_id as a key\n",
    "[agent for agent in list_response.json() if agent['agent_id'] == agent_id][0]"
   ]
  },
  {
   "attachments": {},
   "cell_type": "markdown",
   "metadata": {},
   "source": [
    "# Upload files"
   ]
  },
  {
   "cell_type": "code",
   "execution_count": null,
   "metadata": {},
   "outputs": [],
   "source": [
    "pdf_file_name = '2023_Q1-Shareholder-Letter_FINAL.pdf'\n",
    "current_dir = os.getcwd()\n",
    "test_pdf_path = os.path.join(current_dir, 'data_files', pdf_file_name)\n",
    "with open(test_pdf_path, 'rb') as f:\n",
    "    upload_response = requests.post(f'{base_url}/v1/agents/{agent_id}/kb/file', headers=headers, files={'file': (pdf_file_name, f)})\n",
    "\n",
    "print (upload_response.status_code)\n",
    "upload_response.json()"
   ]
  },
  {
   "attachments": {},
   "cell_type": "markdown",
   "metadata": {},
   "source": [
    "# Add URLs to scrape"
   ]
  },
  {
   "cell_type": "code",
   "execution_count": null,
   "metadata": {},
   "outputs": [],
   "source": [
    "urls_to_scrape = ['https://investors.unity.com/news/news-details/2023/Unity-Named-to-Fast-Companys-Annual-List-of-the-Worlds-Most-Innovative-Companies-for-2023/default.aspx']\n",
    "scrape_response = requests.post(f'{base_url}/v1/agents/{agent_id}/kb/urls/scrape', headers=headers, json={'urls': urls_to_scrape, 'loader_type': 'unstructured'})\n",
    "print (scrape_response.status_code)\n",
    "scrape_response.json()"
   ]
  },
  {
   "attachments": {},
   "cell_type": "markdown",
   "metadata": {},
   "source": [
    "# List agents"
   ]
  },
  {
   "cell_type": "code",
   "execution_count": null,
   "metadata": {},
   "outputs": [],
   "source": [
    "# 4.A. List agents after one agent is created\n",
    "list_response = requests.get(f'{base_url}/v1/agents', headers=headers)\n",
    "print (list_response.status_code)\n",
    "[agent for agent in list_response.json()]"
   ]
  },
  {
   "attachments": {},
   "cell_type": "markdown",
   "metadata": {},
   "source": [
    "# Interactions"
   ]
  },
  {
   "cell_type": "code",
   "execution_count": 13,
   "metadata": {},
   "outputs": [
    {
     "name": "stdout",
     "output_type": "stream",
     "text": [
      "200\n",
      "Sure, here is a SWOT analysis for Unity Software Inc.\n",
      "\n",
      "Strengths:\n",
      "1. Leading Platform:\n",
      "Unity is a leading platform for creating and operating interactive, real-time 3D content, providing a comprehensive set of software solutions to\n",
      "support creators throughout the entire development lifecycle.\n",
      "2. Wide User Base: Unity's platform is used by a wide range of\n",
      "industries and individuals, from large enterprises to small businesses and independent creators.\n",
      "3. Strong Network: The Unity\n",
      "Network, including its analytics tools, ad networks, publishing systems, and cloud services, reaches over 4 billion devices, providing a strong\n",
      "network for data collection and user engagement.\n",
      "4. AI Integration: Unity has been integrating AI technologies into its platform,\n",
      "providing creators with powerful tools to improve productivity and enhance the creation\n",
      "process.\n",
      "\n",
      "Weaknesses:\n",
      "1. Dependence on Other Platforms: Unity's platform depends on the\n",
      "terms of service, policies, and technical requirements of operating system platform providers and application stores, which can change and impact\n",
      "Unity's business practices.\n",
      "2. Workforce Reduction: The recent reduction of 8% of its workforce may affect the company's\n",
      "operations and morale in the short term.\n",
      "3. Profitability: Unity has struggled to achieve and sustain profitability, which could\n",
      "impact its long-term sustainability and growth.\n",
      "\n",
      "Opportunities:\n",
      "1. AI and ML Advancements:\n",
      "The advancements in AI and machine learning technologies present an opportunity for Unity to further enhance its platform and provide more advanced\n",
      "tools and services to its users.\n",
      "2. Expansion into New Industries: Unity has the opportunity to expand its platform into new\n",
      "industries, attracting new customers and increasing its market share.\n",
      "3. VR and AR Development: The growing popularity of virtual\n",
      "and augmented reality presents an opportunity for Unity to further develop its platform for these\n",
      "technologies.\n",
      "\n",
      "Threats:\n",
      "1. Competition: Unity operates in a highly competitive market,\n",
      "with competitors offering similar services and technologies.\n",
      "2. Regulatory Changes: Changes in laws, regulations, and industry\n",
      "standards relating to privacy, data security, and child protection could impact Unity's operations and increase its costs.\n",
      "3.\n",
      "Economic Uncertainty: Uncertainties in the economic environment could impact Unity's customers, affecting their ability to continue using Unity's\n",
      "platform and services.\n"
     ]
    }
   ],
   "source": [
    "\n",
    "# 8.A. Chat user sends a, interaction request to the agent\n",
    "response = requests.post(f'{base_url}/v1/agents/{agent_id}/interaction', headers=headers, json={\n",
    "    'prompt': 'Make Unity SWOT analysis please?'\n",
    "})\n",
    "print(response.status_code)\n",
    "response.json()['choices'][0]['message']['content']\n",
    "wrapped_print(response.json()['choices'][0]['message']['content'])"
   ]
  },
  {
   "attachments": {},
   "cell_type": "markdown",
   "metadata": {},
   "source": [
    "# Delete the agent"
   ]
  },
  {
   "cell_type": "code",
   "execution_count": null,
   "metadata": {},
   "outputs": [],
   "source": [
    "\n",
    "response = requests.delete(f'{base_url}/v1/agents/{agent_id}', headers=headers)\n",
    "print(response.status_code)\n",
    "\n",
    "response.json()['message']"
   ]
  }
 ],
 "metadata": {
  "kernelspec": {
   "display_name": "Python 3",
   "language": "python",
   "name": "python3"
  },
  "language_info": {
   "codemirror_mode": {
    "name": "ipython",
    "version": 3
   },
   "file_extension": ".py",
   "mimetype": "text/x-python",
   "name": "python",
   "nbconvert_exporter": "python",
   "pygments_lexer": "ipython3",
   "version": "3.10.9"
  },
  "orig_nbformat": 4
 },
 "nbformat": 4,
 "nbformat_minor": 2
}
